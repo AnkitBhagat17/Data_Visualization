{
 "cells": [
  {
   "cell_type": "markdown",
   "id": "7de2c62b",
   "metadata": {},
   "source": [
    "##### Numpy ------> Numeric Python. It also called as Vector\n",
    "##### [\n",
    " ##### [1,2,3],\n",
    " ##### [4,5,6],\n",
    " ##### [1,2,3]\n",
    "##### ]  multidimensional Arrays\n",
    "##### ipynb ---> I python notebook"
   ]
  },
  {
   "cell_type": "code",
   "execution_count": 3,
   "id": "d18996d5",
   "metadata": {},
   "outputs": [],
   "source": [
    "import numpy as np"
   ]
  },
  {
   "cell_type": "markdown",
   "id": "df5d0356",
   "metadata": {},
   "source": [
    "##### Creating array from list"
   ]
  },
  {
   "cell_type": "code",
   "execution_count": 4,
   "id": "a29c83b7",
   "metadata": {},
   "outputs": [
    {
     "name": "stdout",
     "output_type": "stream",
     "text": [
      "1-D Array :  [1 2 3 4 5]\n",
      "2-D Array :  [[1 2 3 4]\n",
      " [1 2 3 4]]\n"
     ]
    }
   ],
   "source": [
    "arr_1D = np.array([1,2,3,4,5])\n",
    "print(\"1-D Array : \",arr_1D)\n",
    "\n",
    "arr_2D = np.array([[1,2,3,4],[1,2,3,4]])\n",
    "print(\"2-D Array : \",arr_2D)"
   ]
  },
  {
   "cell_type": "markdown",
   "id": "977c36ff",
   "metadata": {},
   "source": [
    "##### List Vs numpy array"
   ]
  },
  {
   "cell_type": "code",
   "execution_count": 5,
   "id": "19693a58",
   "metadata": {},
   "outputs": [
    {
     "name": "stdout",
     "output_type": "stream",
     "text": [
      "Python List multiplication :  [1, 2, 3, 1, 2, 3]\n",
      "Python List multiplication :  [2 4 6]\n",
      "\n",
      " List operation time :  0.0096893310546875\n",
      "\n",
      " Numpy operation time :  0.006285905838012695\n"
     ]
    }
   ],
   "source": [
    "py_list = [1,2,3]\n",
    "print(\"Python List multiplication : \", py_list *2 ) \n",
    "np_array =np.array([1,2,3])\n",
    "print(\"Python List multiplication : \", np_array *2 ) # Element wise multiplication\n",
    "\n",
    "import time \n",
    "start = time.time()\n",
    "py_list = [i*2 for i in range(100000)]\n",
    "print(\"\\n List operation time : \", time.time() - start)\n",
    "\n",
    "start = time.time()\n",
    "np_array = np.arange(1000000)*2\n",
    "print(\"\\n Numpy operation time : \", time.time() - start)"
   ]
  },
  {
   "cell_type": "markdown",
   "id": "de0ced2c",
   "metadata": {},
   "source": [
    "##### Creating Array from scratch"
   ]
  },
  {
   "cell_type": "code",
   "execution_count": 6,
   "id": "ad4db2fb",
   "metadata": {},
   "outputs": [
    {
     "name": "stdout",
     "output_type": "stream",
     "text": [
      "Zeros Array : \n",
      " [[0. 0. 0. 0.]\n",
      " [0. 0. 0. 0.]\n",
      " [0. 0. 0. 0.]]\n",
      "Ones Array : \n",
      " [[1. 1. 1.]\n",
      " [1. 1. 1.]]\n",
      "Full Array : \n",
      " [[7 7 7]\n",
      " [7 7 7]]\n"
     ]
    }
   ],
   "source": [
    "zeros = np.zeros((3,4))\n",
    "print(\"Zeros Array : \\n\", zeros)\n",
    "ones = np.ones((2,3))\n",
    "print(\"Ones Array : \\n\",ones)\n",
    "full = np.full((2,3), 7)\n",
    "print(\"Full Array : \\n\",full)"
   ]
  },
  {
   "cell_type": "code",
   "execution_count": 7,
   "id": "d9352e1c",
   "metadata": {},
   "outputs": [
    {
     "name": "stdout",
     "output_type": "stream",
     "text": [
      "Random Array : \n",
      " [[0.10941484 0.68940661 0.81139075]\n",
      " [0.52004963 0.12653422 0.89432525]]\n",
      "Sequence Array : \n",
      " [0 2 4 6 8]\n"
     ]
    }
   ],
   "source": [
    "random = np.random.random((2,3))\n",
    "print(\"Random Array : \\n\",random) \n",
    "\n",
    "sequence = np.arange(0,10,2)\n",
    "print(\"Sequence Array : \\n\",sequence) "
   ]
  },
  {
   "cell_type": "markdown",
   "id": "8db68b5f",
   "metadata": {},
   "source": [
    "##### Vector , Matrix , and Tensor"
   ]
  },
  {
   "cell_type": "code",
   "execution_count": 8,
   "id": "01ca0006",
   "metadata": {},
   "outputs": [
    {
     "name": "stdout",
     "output_type": "stream",
     "text": [
      "Vector :  [1 2 3]\n",
      "Matrix :  [[1 2 3]\n",
      " [4 5 6]]\n",
      "Tensor :  [[[ 1  2  3]\n",
      "  [ 3  4  5]]\n",
      "\n",
      " [[ 5  6  7]\n",
      "  [ 8  9 10]]]\n"
     ]
    }
   ],
   "source": [
    "vector = np.array([1,2,3])\n",
    "print(\"Vector : \", vector)\n",
    "\n",
    "matrix = np.array([[1,2,3],\n",
    "                   [4,5,6]])\n",
    "print(\"Matrix : \", matrix)\n",
    "\n",
    "tensor = np.array([[[1,2,3],[3,4,5]],[[5,6,7],[8,9,10]]])\n",
    "print(\"Tensor : \", tensor)\n"
   ]
  },
  {
   "cell_type": "markdown",
   "id": "b746b338",
   "metadata": {},
   "source": [
    "##### Array Properties"
   ]
  },
  {
   "cell_type": "code",
   "execution_count": 9,
   "id": "666f1227",
   "metadata": {},
   "outputs": [
    {
     "name": "stdout",
     "output_type": "stream",
     "text": [
      "Shape :  (2, 3)\n",
      "Dimension :  2\n",
      "Size :  6\n",
      "DType :  int64\n"
     ]
    }
   ],
   "source": [
    "arr = np.array([[1,2,3], [4,5,6]])\n",
    "print(\"Shape : \", arr.shape)\n",
    "print(\"Dimension : \", arr.ndim)\n",
    "print(\"Size : \", arr.size)\n",
    "print(\"DType : \", arr.dtype)"
   ]
  },
  {
   "cell_type": "markdown",
   "id": "fdc79e81",
   "metadata": {},
   "source": [
    "##### Array Reshaping"
   ]
  },
  {
   "cell_type": "code",
   "execution_count": 10,
   "id": "b20afcf7",
   "metadata": {},
   "outputs": [
    {
     "name": "stdout",
     "output_type": "stream",
     "text": [
      "Original Array :  [ 0  1  2  3  4  5  6  7  8  9 10 11]\n",
      "Reshaped Array :  [[ 0  1  2  3]\n",
      " [ 4  5  6  7]\n",
      " [ 8  9 10 11]]\n",
      "Flattended Array : [ 0  1  2  3  4  5  6  7  8  9 10 11]\n",
      "\n",
      " Raveled Array :  [ 0  1  2  3  4  5  6  7  8  9 10 11]\n",
      "Transposed Array : \n",
      " [[ 0  4  8]\n",
      " [ 1  5  9]\n",
      " [ 2  6 10]\n",
      " [ 3  7 11]]\n"
     ]
    }
   ],
   "source": [
    "arr = np.arange(12)\n",
    "print(\"Original Array : \", arr)\n",
    "\n",
    "reshaped = arr.reshape((3, 4))\n",
    "print(\"Reshaped Array : \", reshaped)\n",
    "\n",
    "flattened = reshaped.flatten()\n",
    "print(\"Flattended Array :\", flattened)\n",
    "\n",
    "# ravel returns view , instead of copy\n",
    "raveled = reshaped.ravel()\n",
    "print(\"\\n Raveled Array : \", raveled)\n",
    "\n",
    "# Transpose\n",
    "transpose = reshaped.T\n",
    "print(\"Transposed Array : \\n\", transpose)\n"
   ]
  },
  {
   "cell_type": "markdown",
   "id": "e768cf82",
   "metadata": {},
   "source": [
    "#### Numpy Array Operations\n"
   ]
  },
  {
   "cell_type": "code",
   "execution_count": 11,
   "id": "8d29775f",
   "metadata": {},
   "outputs": [
    {
     "name": "stdout",
     "output_type": "stream",
     "text": [
      "Basic Slicing [3 4 5 6 7]\n",
      "With Step [2 4 6 8]\n",
      "Negative  Indexing  [ 8  9 10]\n"
     ]
    }
   ],
   "source": [
    "import numpy as np\n",
    "\n",
    "arr = np.array([1,2,3,4,5,6,7,8,9,10])\n",
    "print(\"Basic Slicing\", arr[2:7])\n",
    "print(\"With Step\", arr[1:8:2])\n",
    "print(\"Negative  Indexing \",arr[-3:])"
   ]
  },
  {
   "cell_type": "code",
   "execution_count": 12,
   "id": "0696b235",
   "metadata": {},
   "outputs": [
    {
     "name": "stdout",
     "output_type": "stream",
     "text": [
      "Specefic Element:  7\n",
      "Entire Row : [5 6 7 8]\n",
      "Entire row : [2 6]\n"
     ]
    }
   ],
   "source": [
    "arr_2D = np.array([[1,2,3,4],[5,6,7,8]])\n",
    "print(\"Specefic Element: \", arr_2D[1,2])\n",
    "print(\"Entire Row :\", arr_2D[1])\n",
    "print(\"Entire row :\",arr_2D[:,1] )"
   ]
  },
  {
   "cell_type": "markdown",
   "id": "6772416c",
   "metadata": {},
   "source": [
    "#### Sorting"
   ]
  },
  {
   "cell_type": "code",
   "execution_count": 13,
   "id": "8c6db40e",
   "metadata": {},
   "outputs": [
    {
     "name": "stdout",
     "output_type": "stream",
     "text": [
      "Sorted Array :  [1 2 3 4 5]\n",
      "Sorted 2-D Array by column : [[1 1]\n",
      " [2 2]\n",
      " [3 3]]\n"
     ]
    }
   ],
   "source": [
    "unsorted = np.array([3,1,4,2,5])\n",
    "print(\"Sorted Array : \", np.sort(unsorted))\n",
    "\n",
    "arr_2D_unsorted = np.array([[3,1],[1,2],[2,3]])\n",
    "print(\"Sorted 2-D Array by column :\", np.sort(arr_2D_unsorted, axis=0))"
   ]
  },
  {
   "cell_type": "markdown",
   "id": "363c6ae2",
   "metadata": {},
   "source": [
    "#### Array Filter"
   ]
  },
  {
   "cell_type": "code",
   "execution_count": 14,
   "id": "012dce42",
   "metadata": {},
   "outputs": [
    {
     "name": "stdout",
     "output_type": "stream",
     "text": [
      "Even Numbers :  [ 2  4  6  8 10]\n",
      "Odd Numbers :  [1 3 5 7 9]\n"
     ]
    }
   ],
   "source": [
    "num = np.array([1,2,3,4,5,6,7,8,9,10])\n",
    "even_no = num[num % 2 == 0]\n",
    "odd_no = num[num % 2 != 0]\n",
    "print(\"Even Numbers : \" ,even_no)\n",
    "print(\"Odd Numbers : \", odd_no)"
   ]
  },
  {
   "cell_type": "markdown",
   "id": "5a476101",
   "metadata": {},
   "source": [
    "#### Filter with Mask"
   ]
  },
  {
   "cell_type": "code",
   "execution_count": 15,
   "id": "f4881c02",
   "metadata": {},
   "outputs": [
    {
     "name": "stdout",
     "output_type": "stream",
     "text": [
      "Number greater than 5 :  [ 6  7  8  9 10]\n"
     ]
    }
   ],
   "source": [
    "mask = num  > 5 \n",
    "print(\"Number greater than 5 : \", num[mask]) "
   ]
  },
  {
   "cell_type": "markdown",
   "id": "ed82dff6",
   "metadata": {},
   "source": [
    "#### Fancy indexing vs np.where()"
   ]
  },
  {
   "cell_type": "code",
   "execution_count": 16,
   "id": "4fb46bf6",
   "metadata": {},
   "outputs": [
    {
     "name": "stdout",
     "output_type": "stream",
     "text": [
      "[1 3 5]\n",
      "(array([5, 6, 7, 8, 9]),)\n",
      "NP where  [ 6  7  8  9 10]\n"
     ]
    }
   ],
   "source": [
    "indices = [0, 2, 4]\n",
    "print(num[indices])\n",
    "where_result = np.where(num>5)\n",
    "print(where_result)\n",
    "print(\"NP where \", num[where_result])"
   ]
  },
  {
   "cell_type": "markdown",
   "id": "c73d1968",
   "metadata": {},
   "source": [
    "#### Condition Array"
   ]
  },
  {
   "cell_type": "code",
   "execution_count": 17,
   "id": "a6968988",
   "metadata": {},
   "outputs": [
    {
     "name": "stdout",
     "output_type": "stream",
     "text": [
      "Condition Array :  [ 1  2  3  4  5 24 28 32 36 40]\n"
     ]
    }
   ],
   "source": [
    "condition_array = np.where(num > 5, num*4, num)\n",
    "print(\"Condition Array : \", condition_array)"
   ]
  },
  {
   "cell_type": "markdown",
   "id": "09411826",
   "metadata": {},
   "source": [
    "#### Adding and Removing Data"
   ]
  },
  {
   "cell_type": "code",
   "execution_count": 18,
   "id": "40c596da",
   "metadata": {},
   "outputs": [
    {
     "name": "stdout",
     "output_type": "stream",
     "text": [
      "Combined Array :  [1 2 3 4 5 6]\n"
     ]
    }
   ],
   "source": [
    "arr1 = np.array([1,2,3])\n",
    "arr2 = np.array([4,5,6])\n",
    "combined = np.concatenate((arr1, arr2))\n",
    "print(\"Combined Array : \", combined)"
   ]
  },
  {
   "cell_type": "markdown",
   "id": "69182df3",
   "metadata": {},
   "source": [
    "#### Array Compatibility"
   ]
  },
  {
   "cell_type": "code",
   "execution_count": 19,
   "id": "6253d174",
   "metadata": {},
   "outputs": [
    {
     "name": "stdout",
     "output_type": "stream",
     "text": [
      "Compatibilty Shapes :  True\n"
     ]
    }
   ],
   "source": [
    "a = np.array([1, 2, 3])\n",
    "b = np.array([4, 5, 6])\n",
    "c = np.array([7, 8, 9])\n",
    "\n",
    "print(\"Compatibilty Shapes : \", a.shape == b.shape == c.shape)"
   ]
  },
  {
   "cell_type": "code",
   "execution_count": 20,
   "id": "d1cfb381",
   "metadata": {},
   "outputs": [
    {
     "name": "stdout",
     "output_type": "stream",
     "text": [
      "[[1 2]\n",
      " [3 4]]\n",
      "[[1 2]\n",
      " [3 4]\n",
      " [5 6]]\n",
      "Original Array with new column added:\n",
      " [[1 2 7]\n",
      " [3 4 8]]\n"
     ]
    }
   ],
   "source": [
    "original = np.array([[1, 2],[3,4]])\n",
    "new_row = np.array([[5,6]])\n",
    "\n",
    "with_new_row = np.vstack((original, new_row))\n",
    "print(original)\n",
    "print(with_new_row)\n",
    "\n",
    "new_col = np.array([[7],[8]])\n",
    "with_new_col = np.hstack((original, new_col))\n",
    "print(\"Original Array with new column added:\\n\", with_new_col)\n"
   ]
  },
  {
   "cell_type": "code",
   "execution_count": 21,
   "id": "0f6cfc8b",
   "metadata": {},
   "outputs": [
    {
     "name": "stdout",
     "output_type": "stream",
     "text": [
      "Array after Deletion :  [1 2 3 4 6]\n"
     ]
    }
   ],
   "source": [
    "arr = np.array([1,2,3,4,5,6])\n",
    "deleted = np.delete(arr, 4) # It removes the element at index 4\n",
    "print(\"Array after Deletion : \",deleted)"
   ]
  },
  {
   "cell_type": "markdown",
   "id": "405fabf6",
   "metadata": {},
   "source": [
    "##### Data Structure : [restaurant_id, 2021, 2022, 2023, 2024]"
   ]
  },
  {
   "cell_type": "code",
   "execution_count": 22,
   "id": "620a2b8e",
   "metadata": {},
   "outputs": [],
   "source": [
    "import numpy as np\n",
    "import matplotlib.pyplot as plt"
   ]
  },
  {
   "cell_type": "code",
   "execution_count": 23,
   "id": "57adfa21",
   "metadata": {},
   "outputs": [
    {
     "name": "stdout",
     "output_type": "stream",
     "text": [
      "==== Zomato Sales Analysis ====\n",
      "\n",
      " Sales Data Shape :  (5, 5)\n",
      "Sample Data for 1st 3 restaurants : \n",
      " [[     1 150000 180000 220000 250000]\n",
      " [     2 120000 140000 160000 190000]\n",
      " [     3 200000 230000 260000 300000]]\n"
     ]
    }
   ],
   "source": [
    "sales_data = np.array([\n",
    "    [1, 150000, 180000, 220000, 250000], # Paradise Biryani\n",
    "    [2, 120000, 140000, 160000, 190000], # Beijing Bites\n",
    "    [3, 200000, 230000, 260000, 300000], # Pizza Hub\n",
    "    [4, 180000, 210000, 240000, 270000], # Burger Point\n",
    "    [5, 160000, 185000, 205000, 230000]  # Chai Point\n",
    "    ]\n",
    ")\n",
    "\n",
    "print(\"==== Zomato Sales Analysis ====\")\n",
    "print(\"\\n Sales Data Shape : \", sales_data.shape)\n",
    "print(\"Sample Data for 1st 3 restaurants : \\n\", sales_data[:3])"
   ]
  },
  {
   "cell_type": "code",
   "execution_count": 24,
   "id": "6afbe1bc",
   "metadata": {},
   "outputs": [
    {
     "name": "stdout",
     "output_type": "stream",
     "text": [
      "\n",
      " Toatl Sales Per Year\n",
      "[     15  810000  945000 1085000 1240000]\n",
      "[ 810000  945000 1085000 1240000]\n",
      "[150000 120000 200000 180000 160000]\n",
      "[200000 230000 260000 300000]\n",
      "[162000. 189000. 217000. 248000.]\n",
      "[[150000 330000 550000 800000]\n",
      " [120000 260000 420000 610000]\n",
      " [200000 430000 690000 990000]\n",
      " [180000 390000 630000 900000]\n",
      " [160000 345000 550000 780000]]\n"
     ]
    },
    {
     "data": {
      "image/png": "[encoded data removed]",
      "text/plain": [
       "<Figure size 1000x600 with 1 Axes>"
      ]
     },
     "metadata": {},
     "output_type": "display_data"
    }
   ],
   "source": [
    "# Total Sales Per Year\n",
    "print(\"\\n Toatl Sales Per Year\")\n",
    "print(np.sum(sales_data, axis=0))\n",
    "\n",
    "yearly_total = np.sum(sales_data[:, 1:], axis = 0)\n",
    "print(yearly_total)\n",
    "\n",
    "# Minimum Sales Per Year\n",
    "min_sales = np.min(sales_data[:, 1:], axis = 1)\n",
    "print(min_sales)\n",
    "\n",
    "# Maximum Sales Per Year\n",
    "max_sales = np.max(sales_data[:, 1:], axis = 0)\n",
    "print(max_sales)\n",
    "\n",
    "# Average Sales Per Year\n",
    "avg_sales = np.mean(sales_data[:, 1:], axis = 0)\n",
    "print(avg_sales)\n",
    "\n",
    "cumulative_sum = np.cumsum(sales_data[:, 1:], axis = 1)\n",
    "print(cumulative_sum)\n",
    "\n",
    "plt.figure(figsize = (10, 6))\n",
    "plt.plot(np.mean(cumulative_sum, axis=0))\n",
    "plt.title(\"Average Cumulative Sales Over Years\")\n",
    "plt.xlabel(\"Years\")\n",
    "plt.ylabel(\"Average Sales\")\n",
    "plt.grid()\n",
    "plt.show()"
   ]
  },
  {
   "cell_type": "code",
   "execution_count": 25,
   "id": "8545b359",
   "metadata": {},
   "outputs": [
    {
     "name": "stdout",
     "output_type": "stream",
     "text": [
      "\n",
      " Addition of Vectors :  [ 7  9 11 13 15]\n",
      "\n",
      " Vector Multiplication :  [ 6 14 24 36 50]\n",
      "\n",
      " Dot Product :  130\n"
     ]
    }
   ],
   "source": [
    "Vect1 = np.array([1,2,3,4,5])\n",
    "Vect2 = np.array([6,7,8,9,10])\n",
    "print(\"\\n Addition of Vectors : \", Vect1+Vect2)\n",
    "print(\"\\n Vector Multiplication : \", Vect1*Vect2)\n",
    "print(\"\\n Dot Product : \", np.dot(Vect1,Vect2))"
   ]
  },
  {
   "cell_type": "code",
   "execution_count": 26,
   "id": "d72bb7da",
   "metadata": {},
   "outputs": [
    {
     "name": "stdout",
     "output_type": "stream",
     "text": [
      "Vectoirized Upper Case :  ['BIRYANI' 'CHINESE' 'PIZZA' 'BURGER' 'CHAI']\n",
      "<numpy.vectorize object at 0x000002790578A780>\n"
     ]
    }
   ],
   "source": [
    "rest_type = np.array(['biryani', 'chinese', 'pizza', 'burger', 'chai'])\n",
    "vectorized_upper = np.vectorize(str.upper)\n",
    "print(\"Vectoirized Upper Case : \", vectorized_upper(rest_type) )\n",
    "print(vectorized_upper)"
   ]
  },
  {
   "cell_type": "code",
   "execution_count": 28,
   "id": "e4c2dccd",
   "metadata": {},
   "outputs": [
    {
     "name": "stdout",
     "output_type": "stream",
     "text": [
      "[[150000 180000 220000 250000]\n",
      " [120000 140000 160000 190000]\n",
      " [200000 230000 260000 300000]\n",
      " [180000 210000 240000 270000]\n",
      " [160000 185000 205000 230000]]\n"
     ]
    }
   ],
   "source": [
    "mon_avg = sales_data[:, 1:]\n",
    "print(mon_avg)"
   ]
  },
  {
   "cell_type": "code",
   "execution_count": 31,
   "id": "73a2a0e5",
   "metadata": {},
   "outputs": [],
   "source": [
    "import numpy as np\n",
    "import matplotlib.pyplot as plt\n",
    "\n",
    "array1=np.array([[1,2,3],[4,5,6]])\n",
    "array2=np.random.rand(3,3)\n",
    "array3=np.zeros((4,4))"
   ]
  },
  {
   "cell_type": "code",
   "execution_count": 32,
   "id": "376ba6c6",
   "metadata": {},
   "outputs": [],
   "source": [
    "np.save('array1.npy', array1)\n",
    "np.save('array2.npy', array2)\n",
    "np.save('array3.npy', array3)"
   ]
  },
  {
   "cell_type": "code",
   "execution_count": 34,
   "id": "5b6dc07a",
   "metadata": {},
   "outputs": [
    {
     "name": "stdout",
     "output_type": "stream",
     "text": [
      "Print loaded Array [[1 2 3]\n",
      " [4 5 6]]\n"
     ]
    }
   ],
   "source": [
    "loaded_array = np.load('array1.npy')\n",
    "print(\"Print loaded Array\",loaded_array)"
   ]
  },
  {
   "cell_type": "code",
   "execution_count": null,
   "id": "4d1fa3e6",
   "metadata": {},
   "outputs": [
    {
     "data": {
      "image/png": "[encoded data removed]",
      "text/plain": [
       "<Figure size 1000x500 with 2 Axes>"
      ]
     },
     "metadata": {},
     "output_type": "display_data"
    },
    {
     "ename": "",
     "evalue": "",
     "output_type": "error",
     "traceback": [
      "\u001b[1;31mThe Kernel crashed while executing code in the current cell or a previous cell. \n",
      "\u001b[1;31mPlease review the code in the cell(s) to identify a possible cause of the failure. \n",
      "\u001b[1;31mClick <a href='https://aka.ms/vscodeJupyterKernelCrash'>here</a> for more info. \n",
      "\u001b[1;31mView Jupyter <a href='command:jupyter.viewOutput'>log</a> for further details."
     ]
    }
   ],
   "source": [
    "try:\n",
    "    logo = np.load('numpy-logo.npy')\n",
    "    # Display\n",
    "    plt.figure(figsize=(10, 5))\n",
    "    plt.subplot(121)\n",
    "    plt.imshow(logo)\n",
    "    plt.title(\"Numpy Logo\")\n",
    "    plt.grid(False)\n",
    "    \n",
    "    dark_logo = 1 - logo\n",
    "    plt.subplot(122)\n",
    "    plt.imshow(dark_logo)\n",
    "    plt.title(\"Dark Logo\")\n",
    "    plt.grid(False)\n",
    "except FileNotFoundError:\n",
    "    print(\"Numpy logo file not found\")"
   ]
  }
 ],
 "metadata": {
  "kernelspec": {
   "display_name": "Python 3",
   "language": "python",
   "name": "python3"
  },
  "language_info": {
   "codemirror_mode": {
    "name": "ipython",
    "version": 3
   },
   "file_extension": ".py",
   "mimetype": "text/x-python",
   "name": "python",
   "nbconvert_exporter": "python",
   "pygments_lexer": "ipython3",
   "version": "3.13.1"
  }
 },
 "nbformat": 4,
 "nbformat_minor": 5
}
