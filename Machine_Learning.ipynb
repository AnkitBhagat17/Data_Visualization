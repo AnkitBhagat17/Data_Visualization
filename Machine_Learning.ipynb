{
 "cells": [
  {
   "cell_type": "markdown",
   "id": "fa4f127b",
   "metadata": {},
   "source": [
    "<h4 style=\"text-align:center\"><b>Machine Learning</b></h4>"
   ]
  },
  {
   "cell_type": "markdown",
   "id": "b21fb0ee",
   "metadata": {},
   "source": [
    "<b>Machine Learning</b> is the science of getting computers to leran and act like human do, and improve their learning over time in autonomus fashion, by feeding them data and infromation in the form of observations and real-world interactions.\n",
    "\n",
    "<img src='https://media.geeksforgeeks.org/wp-content/uploads/20250110153147721466/Machine-Learning-Techniques.webp'></img>\n",
    "\n",
    "### Types of Machine Learning\n",
    "\n",
    "Machine Learning algorithms can be broadly categorized into **three main types** based on their learning approach and the nature of the data they work with.\n",
    "\n",
    "---\n",
    "\n",
    "#### 1. Supervised Machine Learning  \n",
    "Supervised learning algorithms are trained on **labelled data** to map input features to targets.\n",
    "\n",
    "- **Regression**: Predicts continuous values (e.g., house prices, temperature).  \n",
    "- **Classification**: Assigns data to specific categories (e.g., spam detection, disease diagnosis).  \n",
    "\n",
    "---\n",
    "\n",
    "#### 2. Unsupervised Machine Learning  \n",
    "Unsupervised learning algorithms identify **patterns in unlabelled data**.  \n",
    "\n",
    "There are two main types of unsupervised learning:  \n",
    "\n",
    "- **Clustering**: Groups similar data points together (e.g., customer segmentation, document grouping).  \n",
    "- **Dimensionality Reduction**: Reduces the number of variables while retaining key information (e.g., PCA, t-SNE).  \n",
    "\n",
    "---\n",
    "\n",
    "#### 3. Reinforcement Machine Learning  \n",
    "In Reinforcement Learning, an **agent learns by interacting with an environment**, performing actions, and receiving **rewards/penalties**.  \n",
    "It aims to maximize **cumulative reward**.  \n",
    "\n",
    "There are two main types of reinforcement learning:  \n",
    "\n",
    "- **Model-based Reinforcement Learning**: The agent learns a model of the environment to plan actions.  \n",
    "- **Model-free Reinforcement Learning**: The agent learns directly from experience without a model.  \n",
    "\n",
    "---\n"
   ]
  },
  {
   "cell_type": "markdown",
   "id": "26dbdc87",
   "metadata": {},
   "source": []
  }
 ],
 "metadata": {
  "language_info": {
   "name": "python"
  }
 },
 "nbformat": 4,
 "nbformat_minor": 5
}
