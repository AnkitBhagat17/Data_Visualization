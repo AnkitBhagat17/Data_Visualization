{
 "cells": [
  {
   "cell_type": "markdown",
   "id": "caf9f0b4",
   "metadata": {},
   "source": [
    "<h3 style='color:yellow; text-align:center'><b>Pizza Sales Analysis</b></h3>"
   ]
  },
  {
   "cell_type": "markdown",
   "id": "c3d7efec",
   "metadata": {},
   "source": [
    "#### Importing the required libraries"
   ]
  },
  {
   "cell_type": "code",
   "execution_count": 4,
   "id": "74d6d431",
   "metadata": {},
   "outputs": [],
   "source": [
    "import pandas as pd \n",
    "import numpy as np \n",
    "import matplotlib.pyplot as plt \n",
    "import seaborn as sns\n",
    "import plotly.express as px\n",
    "import warnings\n"
   ]
  },
  {
   "cell_type": "markdown",
   "id": "24139d74",
   "metadata": {},
   "source": [
    "#### Importing the dataset"
   ]
  },
  {
   "cell_type": "code",
   "execution_count": 6,
   "id": "6a0e779a",
   "metadata": {},
   "outputs": [],
   "source": [
    "df = pd.read_csv(\"pizza_sales.csv\")"
   ]
  },
  {
   "cell_type": "markdown",
   "id": "65592051",
   "metadata": {},
   "source": [
    "#### MetaData of Raw Data"
   ]
  },
  {
   "cell_type": "code",
   "execution_count": 7,
   "id": "c0ca93a7",
   "metadata": {},
   "outputs": [
    {
     "data": {
      "text/html": [
       "<div>\n",
       "<style scoped>\n",
       "    .dataframe tbody tr th:only-of-type {\n",
       "        vertical-align: middle;\n",
       "    }\n",
       "\n",
       "    .dataframe tbody tr th {\n",
       "        vertical-align: top;\n",
       "    }\n",
       "\n",
       "    .dataframe thead th {\n",
       "        text-align: right;\n",
       "    }\n",
       "</style>\n",
       "<table border=\"1\" class=\"dataframe\">\n",
       "  <thead>\n",
       "    <tr style=\"text-align: right;\">\n",
       "      <th></th>\n",
       "      <th>pizza_id</th>\n",
       "      <th>order_id</th>\n",
       "      <th>pizza_name_id</th>\n",
       "      <th>quantity</th>\n",
       "      <th>order_date</th>\n",
       "      <th>order_time</th>\n",
       "      <th>unit_price</th>\n",
       "      <th>total_price</th>\n",
       "      <th>pizza_size</th>\n",
       "      <th>pizza_category</th>\n",
       "      <th>pizza_ingredients</th>\n",
       "      <th>pizza_name</th>\n",
       "    </tr>\n",
       "  </thead>\n",
       "  <tbody>\n",
       "    <tr>\n",
       "      <th>0</th>\n",
       "      <td>1</td>\n",
       "      <td>1</td>\n",
       "      <td>hawaiian_m</td>\n",
       "      <td>1</td>\n",
       "      <td>01-01-2015</td>\n",
       "      <td>11:38:36</td>\n",
       "      <td>13.25</td>\n",
       "      <td>13.25</td>\n",
       "      <td>M</td>\n",
       "      <td>Classic</td>\n",
       "      <td>Sliced Ham, Pineapple, Mozzarella Cheese</td>\n",
       "      <td>The Hawaiian Pizza</td>\n",
       "    </tr>\n",
       "    <tr>\n",
       "      <th>1</th>\n",
       "      <td>2</td>\n",
       "      <td>2</td>\n",
       "      <td>classic_dlx_m</td>\n",
       "      <td>1</td>\n",
       "      <td>01-01-2015</td>\n",
       "      <td>11:57:40</td>\n",
       "      <td>16.00</td>\n",
       "      <td>16.00</td>\n",
       "      <td>M</td>\n",
       "      <td>Classic</td>\n",
       "      <td>Pepperoni, Mushrooms, Red Onions, Red Peppers,...</td>\n",
       "      <td>The Classic Deluxe Pizza</td>\n",
       "    </tr>\n",
       "    <tr>\n",
       "      <th>2</th>\n",
       "      <td>3</td>\n",
       "      <td>2</td>\n",
       "      <td>five_cheese_l</td>\n",
       "      <td>1</td>\n",
       "      <td>01-01-2015</td>\n",
       "      <td>11:57:40</td>\n",
       "      <td>18.50</td>\n",
       "      <td>18.50</td>\n",
       "      <td>L</td>\n",
       "      <td>Veggie</td>\n",
       "      <td>Mozzarella Cheese, Provolone Cheese, Smoked Go...</td>\n",
       "      <td>The Five Cheese Pizza</td>\n",
       "    </tr>\n",
       "    <tr>\n",
       "      <th>3</th>\n",
       "      <td>4</td>\n",
       "      <td>2</td>\n",
       "      <td>ital_supr_l</td>\n",
       "      <td>1</td>\n",
       "      <td>01-01-2015</td>\n",
       "      <td>11:57:40</td>\n",
       "      <td>20.75</td>\n",
       "      <td>20.75</td>\n",
       "      <td>L</td>\n",
       "      <td>Supreme</td>\n",
       "      <td>Calabrese Salami, Capocollo, Tomatoes, Red Oni...</td>\n",
       "      <td>The Italian Supreme Pizza</td>\n",
       "    </tr>\n",
       "    <tr>\n",
       "      <th>4</th>\n",
       "      <td>5</td>\n",
       "      <td>2</td>\n",
       "      <td>mexicana_m</td>\n",
       "      <td>1</td>\n",
       "      <td>01-01-2015</td>\n",
       "      <td>11:57:40</td>\n",
       "      <td>16.00</td>\n",
       "      <td>16.00</td>\n",
       "      <td>M</td>\n",
       "      <td>Veggie</td>\n",
       "      <td>Tomatoes, Red Peppers, Jalapeno Peppers, Red O...</td>\n",
       "      <td>The Mexicana Pizza</td>\n",
       "    </tr>\n",
       "  </tbody>\n",
       "</table>\n",
       "</div>"
      ],
      "text/plain": [
       "   pizza_id  order_id  pizza_name_id  quantity  order_date order_time  \\\n",
       "0         1         1     hawaiian_m         1  01-01-2015   11:38:36   \n",
       "1         2         2  classic_dlx_m         1  01-01-2015   11:57:40   \n",
       "2         3         2  five_cheese_l         1  01-01-2015   11:57:40   \n",
       "3         4         2    ital_supr_l         1  01-01-2015   11:57:40   \n",
       "4         5         2     mexicana_m         1  01-01-2015   11:57:40   \n",
       "\n",
       "   unit_price  total_price pizza_size pizza_category  \\\n",
       "0       13.25        13.25          M        Classic   \n",
       "1       16.00        16.00          M        Classic   \n",
       "2       18.50        18.50          L         Veggie   \n",
       "3       20.75        20.75          L        Supreme   \n",
       "4       16.00        16.00          M         Veggie   \n",
       "\n",
       "                                   pizza_ingredients  \\\n",
       "0           Sliced Ham, Pineapple, Mozzarella Cheese   \n",
       "1  Pepperoni, Mushrooms, Red Onions, Red Peppers,...   \n",
       "2  Mozzarella Cheese, Provolone Cheese, Smoked Go...   \n",
       "3  Calabrese Salami, Capocollo, Tomatoes, Red Oni...   \n",
       "4  Tomatoes, Red Peppers, Jalapeno Peppers, Red O...   \n",
       "\n",
       "                  pizza_name  \n",
       "0         The Hawaiian Pizza  \n",
       "1   The Classic Deluxe Pizza  \n",
       "2      The Five Cheese Pizza  \n",
       "3  The Italian Supreme Pizza  \n",
       "4         The Mexicana Pizza  "
      ]
     },
     "execution_count": 7,
     "metadata": {},
     "output_type": "execute_result"
    }
   ],
   "source": [
    "df.head(5)"
   ]
  },
  {
   "cell_type": "code",
   "execution_count": 8,
   "id": "a79aedd7",
   "metadata": {},
   "outputs": [
    {
     "data": {
      "text/html": [
       "<div>\n",
       "<style scoped>\n",
       "    .dataframe tbody tr th:only-of-type {\n",
       "        vertical-align: middle;\n",
       "    }\n",
       "\n",
       "    .dataframe tbody tr th {\n",
       "        vertical-align: top;\n",
       "    }\n",
       "\n",
       "    .dataframe thead th {\n",
       "        text-align: right;\n",
       "    }\n",
       "</style>\n",
       "<table border=\"1\" class=\"dataframe\">\n",
       "  <thead>\n",
       "    <tr style=\"text-align: right;\">\n",
       "      <th></th>\n",
       "      <th>pizza_id</th>\n",
       "      <th>order_id</th>\n",
       "      <th>pizza_name_id</th>\n",
       "      <th>quantity</th>\n",
       "      <th>order_date</th>\n",
       "      <th>order_time</th>\n",
       "      <th>unit_price</th>\n",
       "      <th>total_price</th>\n",
       "      <th>pizza_size</th>\n",
       "      <th>pizza_category</th>\n",
       "      <th>pizza_ingredients</th>\n",
       "      <th>pizza_name</th>\n",
       "    </tr>\n",
       "  </thead>\n",
       "  <tbody>\n",
       "    <tr>\n",
       "      <th>48610</th>\n",
       "      <td>48611</td>\n",
       "      <td>21346</td>\n",
       "      <td>soppressata_l</td>\n",
       "      <td>1</td>\n",
       "      <td>31-12-2015</td>\n",
       "      <td>20:51:07</td>\n",
       "      <td>20.75</td>\n",
       "      <td>20.75</td>\n",
       "      <td>L</td>\n",
       "      <td>Supreme</td>\n",
       "      <td>Soppressata Salami, Fontina Cheese, Mozzarella...</td>\n",
       "      <td>The Soppressata Pizza</td>\n",
       "    </tr>\n",
       "    <tr>\n",
       "      <th>48611</th>\n",
       "      <td>48612</td>\n",
       "      <td>21347</td>\n",
       "      <td>bbq_ckn_m</td>\n",
       "      <td>1</td>\n",
       "      <td>31-12-2015</td>\n",
       "      <td>21:14:37</td>\n",
       "      <td>16.75</td>\n",
       "      <td>16.75</td>\n",
       "      <td>M</td>\n",
       "      <td>Chicken</td>\n",
       "      <td>Barbecued Chicken, Red Peppers, Green Peppers,...</td>\n",
       "      <td>The Barbecue Chicken Pizza</td>\n",
       "    </tr>\n",
       "    <tr>\n",
       "      <th>48612</th>\n",
       "      <td>48613</td>\n",
       "      <td>21347</td>\n",
       "      <td>ital_supr_m</td>\n",
       "      <td>1</td>\n",
       "      <td>31-12-2015</td>\n",
       "      <td>21:14:37</td>\n",
       "      <td>16.50</td>\n",
       "      <td>16.50</td>\n",
       "      <td>M</td>\n",
       "      <td>Supreme</td>\n",
       "      <td>Calabrese Salami, Capocollo, Tomatoes, Red Oni...</td>\n",
       "      <td>The Italian Supreme Pizza</td>\n",
       "    </tr>\n",
       "    <tr>\n",
       "      <th>48613</th>\n",
       "      <td>48614</td>\n",
       "      <td>21347</td>\n",
       "      <td>peppr_salami_s</td>\n",
       "      <td>1</td>\n",
       "      <td>31-12-2015</td>\n",
       "      <td>21:14:37</td>\n",
       "      <td>12.50</td>\n",
       "      <td>12.50</td>\n",
       "      <td>S</td>\n",
       "      <td>Supreme</td>\n",
       "      <td>Genoa Salami, Capocollo, Pepperoni, Tomatoes, ...</td>\n",
       "      <td>The Pepper Salami Pizza</td>\n",
       "    </tr>\n",
       "    <tr>\n",
       "      <th>48614</th>\n",
       "      <td>48615</td>\n",
       "      <td>21347</td>\n",
       "      <td>southw_ckn_l</td>\n",
       "      <td>1</td>\n",
       "      <td>31-12-2015</td>\n",
       "      <td>21:14:37</td>\n",
       "      <td>20.75</td>\n",
       "      <td>20.75</td>\n",
       "      <td>L</td>\n",
       "      <td>Chicken</td>\n",
       "      <td>Chicken, Tomatoes, Red Peppers, Red Onions, Ja...</td>\n",
       "      <td>The Southwest Chicken Pizza</td>\n",
       "    </tr>\n",
       "    <tr>\n",
       "      <th>48615</th>\n",
       "      <td>48616</td>\n",
       "      <td>21348</td>\n",
       "      <td>ckn_alfredo_m</td>\n",
       "      <td>1</td>\n",
       "      <td>31-12-2015</td>\n",
       "      <td>21:23:10</td>\n",
       "      <td>16.75</td>\n",
       "      <td>16.75</td>\n",
       "      <td>M</td>\n",
       "      <td>Chicken</td>\n",
       "      <td>Chicken, Red Onions, Red Peppers, Mushrooms, A...</td>\n",
       "      <td>The Chicken Alfredo Pizza</td>\n",
       "    </tr>\n",
       "    <tr>\n",
       "      <th>48616</th>\n",
       "      <td>48617</td>\n",
       "      <td>21348</td>\n",
       "      <td>four_cheese_l</td>\n",
       "      <td>1</td>\n",
       "      <td>31-12-2015</td>\n",
       "      <td>21:23:10</td>\n",
       "      <td>17.95</td>\n",
       "      <td>17.95</td>\n",
       "      <td>L</td>\n",
       "      <td>Veggie</td>\n",
       "      <td>Ricotta Cheese, Gorgonzola Piccante Cheese, Mo...</td>\n",
       "      <td>The Four Cheese Pizza</td>\n",
       "    </tr>\n",
       "    <tr>\n",
       "      <th>48617</th>\n",
       "      <td>48618</td>\n",
       "      <td>21348</td>\n",
       "      <td>napolitana_s</td>\n",
       "      <td>1</td>\n",
       "      <td>31-12-2015</td>\n",
       "      <td>21:23:10</td>\n",
       "      <td>12.00</td>\n",
       "      <td>12.00</td>\n",
       "      <td>S</td>\n",
       "      <td>Classic</td>\n",
       "      <td>Tomatoes, Anchovies, Green Olives, Red Onions,...</td>\n",
       "      <td>The Napolitana Pizza</td>\n",
       "    </tr>\n",
       "    <tr>\n",
       "      <th>48618</th>\n",
       "      <td>48619</td>\n",
       "      <td>21349</td>\n",
       "      <td>mexicana_l</td>\n",
       "      <td>1</td>\n",
       "      <td>31-12-2015</td>\n",
       "      <td>22:09:54</td>\n",
       "      <td>20.25</td>\n",
       "      <td>20.25</td>\n",
       "      <td>L</td>\n",
       "      <td>Veggie</td>\n",
       "      <td>Tomatoes, Red Peppers, Jalapeno Peppers, Red O...</td>\n",
       "      <td>The Mexicana Pizza</td>\n",
       "    </tr>\n",
       "    <tr>\n",
       "      <th>48619</th>\n",
       "      <td>48620</td>\n",
       "      <td>21350</td>\n",
       "      <td>bbq_ckn_s</td>\n",
       "      <td>1</td>\n",
       "      <td>31-12-2015</td>\n",
       "      <td>23:02:05</td>\n",
       "      <td>12.75</td>\n",
       "      <td>12.75</td>\n",
       "      <td>S</td>\n",
       "      <td>Chicken</td>\n",
       "      <td>Barbecued Chicken, Red Peppers, Green Peppers,...</td>\n",
       "      <td>The Barbecue Chicken Pizza</td>\n",
       "    </tr>\n",
       "  </tbody>\n",
       "</table>\n",
       "</div>"
      ],
      "text/plain": [
       "       pizza_id  order_id   pizza_name_id  quantity  order_date order_time  \\\n",
       "48610     48611     21346   soppressata_l         1  31-12-2015   20:51:07   \n",
       "48611     48612     21347       bbq_ckn_m         1  31-12-2015   21:14:37   \n",
       "48612     48613     21347     ital_supr_m         1  31-12-2015   21:14:37   \n",
       "48613     48614     21347  peppr_salami_s         1  31-12-2015   21:14:37   \n",
       "48614     48615     21347    southw_ckn_l         1  31-12-2015   21:14:37   \n",
       "48615     48616     21348   ckn_alfredo_m         1  31-12-2015   21:23:10   \n",
       "48616     48617     21348   four_cheese_l         1  31-12-2015   21:23:10   \n",
       "48617     48618     21348    napolitana_s         1  31-12-2015   21:23:10   \n",
       "48618     48619     21349      mexicana_l         1  31-12-2015   22:09:54   \n",
       "48619     48620     21350       bbq_ckn_s         1  31-12-2015   23:02:05   \n",
       "\n",
       "       unit_price  total_price pizza_size pizza_category  \\\n",
       "48610       20.75        20.75          L        Supreme   \n",
       "48611       16.75        16.75          M        Chicken   \n",
       "48612       16.50        16.50          M        Supreme   \n",
       "48613       12.50        12.50          S        Supreme   \n",
       "48614       20.75        20.75          L        Chicken   \n",
       "48615       16.75        16.75          M        Chicken   \n",
       "48616       17.95        17.95          L         Veggie   \n",
       "48617       12.00        12.00          S        Classic   \n",
       "48618       20.25        20.25          L         Veggie   \n",
       "48619       12.75        12.75          S        Chicken   \n",
       "\n",
       "                                       pizza_ingredients  \\\n",
       "48610  Soppressata Salami, Fontina Cheese, Mozzarella...   \n",
       "48611  Barbecued Chicken, Red Peppers, Green Peppers,...   \n",
       "48612  Calabrese Salami, Capocollo, Tomatoes, Red Oni...   \n",
       "48613  Genoa Salami, Capocollo, Pepperoni, Tomatoes, ...   \n",
       "48614  Chicken, Tomatoes, Red Peppers, Red Onions, Ja...   \n",
       "48615  Chicken, Red Onions, Red Peppers, Mushrooms, A...   \n",
       "48616  Ricotta Cheese, Gorgonzola Piccante Cheese, Mo...   \n",
       "48617  Tomatoes, Anchovies, Green Olives, Red Onions,...   \n",
       "48618  Tomatoes, Red Peppers, Jalapeno Peppers, Red O...   \n",
       "48619  Barbecued Chicken, Red Peppers, Green Peppers,...   \n",
       "\n",
       "                        pizza_name  \n",
       "48610        The Soppressata Pizza  \n",
       "48611   The Barbecue Chicken Pizza  \n",
       "48612    The Italian Supreme Pizza  \n",
       "48613      The Pepper Salami Pizza  \n",
       "48614  The Southwest Chicken Pizza  \n",
       "48615    The Chicken Alfredo Pizza  \n",
       "48616        The Four Cheese Pizza  \n",
       "48617         The Napolitana Pizza  \n",
       "48618           The Mexicana Pizza  \n",
       "48619   The Barbecue Chicken Pizza  "
      ]
     },
     "execution_count": 8,
     "metadata": {},
     "output_type": "execute_result"
    }
   ],
   "source": [
    "df.tail(10)"
   ]
  },
  {
   "cell_type": "markdown",
   "id": "a7eb0538",
   "metadata": {},
   "source": []
  },
  {
   "cell_type": "code",
   "execution_count": 11,
   "id": "023f2a91",
   "metadata": {},
   "outputs": [
    {
     "name": "stdout",
     "output_type": "stream",
     "text": [
      "The MetaData of the DataSet : (48620, 12)\n"
     ]
    }
   ],
   "source": [
    "print(\"The MetaData of the DataSet :\", df.shape)"
   ]
  },
  {
   "cell_type": "code",
   "execution_count": 12,
   "id": "1d9cf20f",
   "metadata": {},
   "outputs": [
    {
     "name": "stdout",
     "output_type": "stream",
     "text": [
      "The Rows of the DataSet : 48620\n"
     ]
    }
   ],
   "source": [
    "print(\"The Rows of the DataSet :\", df.shape[0])"
   ]
  },
  {
   "cell_type": "code",
   "execution_count": 13,
   "id": "3ec2a6d9",
   "metadata": {},
   "outputs": [
    {
     "name": "stdout",
     "output_type": "stream",
     "text": [
      "The Columns of the DataSet : 12\n"
     ]
    }
   ],
   "source": [
    "print(\"The Columns of the DataSet :\", df.shape[1])"
   ]
  },
  {
   "cell_type": "code",
   "execution_count": 14,
   "id": "75c7e29f",
   "metadata": {},
   "outputs": [
    {
     "data": {
      "text/plain": [
       "Index(['pizza_id', 'order_id', 'pizza_name_id', 'quantity', 'order_date',\n",
       "       'order_time', 'unit_price', 'total_price', 'pizza_size',\n",
       "       'pizza_category', 'pizza_ingredients', 'pizza_name'],\n",
       "      dtype='object')"
      ]
     },
     "execution_count": 14,
     "metadata": {},
     "output_type": "execute_result"
    }
   ],
   "source": [
    "df.columns"
   ]
  },
  {
   "cell_type": "code",
   "execution_count": 15,
   "id": "820fc867",
   "metadata": {},
   "outputs": [
    {
     "name": "stdout",
     "output_type": "stream",
     "text": [
      "<class 'pandas.core.frame.DataFrame'>\n",
      "RangeIndex: 48620 entries, 0 to 48619\n",
      "Data columns (total 12 columns):\n",
      " #   Column             Non-Null Count  Dtype  \n",
      "---  ------             --------------  -----  \n",
      " 0   pizza_id           48620 non-null  int64  \n",
      " 1   order_id           48620 non-null  int64  \n",
      " 2   pizza_name_id      48620 non-null  object \n",
      " 3   quantity           48620 non-null  int64  \n",
      " 4   order_date         48620 non-null  object \n",
      " 5   order_time         48620 non-null  object \n",
      " 6   unit_price         48620 non-null  float64\n",
      " 7   total_price        48620 non-null  float64\n",
      " 8   pizza_size         48620 non-null  object \n",
      " 9   pizza_category     48620 non-null  object \n",
      " 10  pizza_ingredients  48620 non-null  object \n",
      " 11  pizza_name         48620 non-null  object \n",
      "dtypes: float64(2), int64(3), object(7)\n",
      "memory usage: 4.5+ MB\n"
     ]
    }
   ],
   "source": [
    "df.info()"
   ]
  },
  {
   "cell_type": "markdown",
   "id": "baf3092e",
   "metadata": {},
   "source": [
    "#### Data Types in Raw Data"
   ]
  },
  {
   "cell_type": "code",
   "execution_count": 16,
   "id": "d0ca58df",
   "metadata": {},
   "outputs": [
    {
     "data": {
      "text/plain": [
       "pizza_id               int64\n",
       "order_id               int64\n",
       "pizza_name_id         object\n",
       "quantity               int64\n",
       "order_date            object\n",
       "order_time            object\n",
       "unit_price           float64\n",
       "total_price          float64\n",
       "pizza_size            object\n",
       "pizza_category        object\n",
       "pizza_ingredients     object\n",
       "pizza_name            object\n",
       "dtype: object"
      ]
     },
     "execution_count": 16,
     "metadata": {},
     "output_type": "execute_result"
    }
   ],
   "source": [
    "df.dtypes"
   ]
  },
  {
   "cell_type": "code",
   "execution_count": 18,
   "id": "ad17102b",
   "metadata": {},
   "outputs": [
    {
     "data": {
      "text/html": [
       "<div>\n",
       "<style scoped>\n",
       "    .dataframe tbody tr th:only-of-type {\n",
       "        vertical-align: middle;\n",
       "    }\n",
       "\n",
       "    .dataframe tbody tr th {\n",
       "        vertical-align: top;\n",
       "    }\n",
       "\n",
       "    .dataframe thead th {\n",
       "        text-align: right;\n",
       "    }\n",
       "</style>\n",
       "<table border=\"1\" class=\"dataframe\">\n",
       "  <thead>\n",
       "    <tr style=\"text-align: right;\">\n",
       "      <th></th>\n",
       "      <th>pizza_id</th>\n",
       "      <th>order_id</th>\n",
       "      <th>quantity</th>\n",
       "      <th>unit_price</th>\n",
       "      <th>total_price</th>\n",
       "    </tr>\n",
       "  </thead>\n",
       "  <tbody>\n",
       "    <tr>\n",
       "      <th>count</th>\n",
       "      <td>48620.000000</td>\n",
       "      <td>48620.000000</td>\n",
       "      <td>48620.000000</td>\n",
       "      <td>48620.000000</td>\n",
       "      <td>48620.000000</td>\n",
       "    </tr>\n",
       "    <tr>\n",
       "      <th>mean</th>\n",
       "      <td>24310.500000</td>\n",
       "      <td>10701.479761</td>\n",
       "      <td>1.019622</td>\n",
       "      <td>16.494132</td>\n",
       "      <td>16.821474</td>\n",
       "    </tr>\n",
       "    <tr>\n",
       "      <th>std</th>\n",
       "      <td>14035.529381</td>\n",
       "      <td>6180.119770</td>\n",
       "      <td>0.143077</td>\n",
       "      <td>3.621789</td>\n",
       "      <td>4.437398</td>\n",
       "    </tr>\n",
       "    <tr>\n",
       "      <th>min</th>\n",
       "      <td>1.000000</td>\n",
       "      <td>1.000000</td>\n",
       "      <td>1.000000</td>\n",
       "      <td>9.750000</td>\n",
       "      <td>9.750000</td>\n",
       "    </tr>\n",
       "    <tr>\n",
       "      <th>25%</th>\n",
       "      <td>12155.750000</td>\n",
       "      <td>5337.000000</td>\n",
       "      <td>1.000000</td>\n",
       "      <td>12.750000</td>\n",
       "      <td>12.750000</td>\n",
       "    </tr>\n",
       "    <tr>\n",
       "      <th>50%</th>\n",
       "      <td>24310.500000</td>\n",
       "      <td>10682.500000</td>\n",
       "      <td>1.000000</td>\n",
       "      <td>16.500000</td>\n",
       "      <td>16.500000</td>\n",
       "    </tr>\n",
       "    <tr>\n",
       "      <th>75%</th>\n",
       "      <td>36465.250000</td>\n",
       "      <td>16100.000000</td>\n",
       "      <td>1.000000</td>\n",
       "      <td>20.250000</td>\n",
       "      <td>20.500000</td>\n",
       "    </tr>\n",
       "    <tr>\n",
       "      <th>max</th>\n",
       "      <td>48620.000000</td>\n",
       "      <td>21350.000000</td>\n",
       "      <td>4.000000</td>\n",
       "      <td>35.950000</td>\n",
       "      <td>83.000000</td>\n",
       "    </tr>\n",
       "  </tbody>\n",
       "</table>\n",
       "</div>"
      ],
      "text/plain": [
       "           pizza_id      order_id      quantity    unit_price   total_price\n",
       "count  48620.000000  48620.000000  48620.000000  48620.000000  48620.000000\n",
       "mean   24310.500000  10701.479761      1.019622     16.494132     16.821474\n",
       "std    14035.529381   6180.119770      0.143077      3.621789      4.437398\n",
       "min        1.000000      1.000000      1.000000      9.750000      9.750000\n",
       "25%    12155.750000   5337.000000      1.000000     12.750000     12.750000\n",
       "50%    24310.500000  10682.500000      1.000000     16.500000     16.500000\n",
       "75%    36465.250000  16100.000000      1.000000     20.250000     20.500000\n",
       "max    48620.000000  21350.000000      4.000000     35.950000     83.000000"
      ]
     },
     "execution_count": 18,
     "metadata": {},
     "output_type": "execute_result"
    }
   ],
   "source": [
    "df.describe()"
   ]
  },
  {
   "cell_type": "markdown",
   "id": "4482d2c7",
   "metadata": {},
   "source": [
    "<h2 style='color:red; text-align:center'><b>KPI's</b></h2>"
   ]
  },
  {
   "cell_type": "code",
   "execution_count": 29,
   "id": "9715b1c6",
   "metadata": {},
   "outputs": [
    {
     "name": "stdout",
     "output_type": "stream",
     "text": [
      "Total Revenue           : $817,860.05\n",
      "Total Pizzas Sold       : 49,574\n",
      "Total Orders            : 21,350\n",
      "Average Order Value     : $38.31\n",
      "Average Pizzas Per Order: 2.32\n"
     ]
    }
   ],
   "source": [
    "total_revenue = df['total_price'].sum()\n",
    "\n",
    "total_pizzas_sold = df['quantity'].sum()\n",
    "\n",
    "total_orders = df['order_id'].nunique()\n",
    "\n",
    "avg_order_value = total_revenue / total_orders\n",
    "\n",
    "avg_pizzas_per_order = total_pizzas_sold / total_orders\n",
    "\n",
    "print(f'Total Revenue           : ${total_revenue:,.2f}')\n",
    "print(f'Total Pizzas Sold       : {total_pizzas_sold:,}')\n",
    "print(f'Total Orders            : {total_orders:,}')\n",
    "print(f'Average Order Value     : ${avg_order_value:,.2f}')\n",
    "print(f'Average Pizzas Per Order: {avg_pizzas_per_order:,.2f}')\n",
    "\n",
    "\n"
   ]
  },
  {
   "cell_type": "markdown",
   "id": "9dcf2161",
   "metadata": {},
   "source": [
    "<h2 style='color:#FF1493; text-align:center'><b>Chart's</b></h2>"
   ]
  },
  {
   "cell_type": "markdown",
   "id": "c0d00355",
   "metadata": {},
   "source": [
    "#### Ingredient Analysis"
   ]
  },
  {
   "cell_type": "code",
   "execution_count": 37,
   "id": "bd714a74",
   "metadata": {},
   "outputs": [
    {
     "name": "stdout",
     "output_type": "stream",
     "text": [
      "        Indegredients  count\n",
      "0              Garlic  27422\n",
      "1            Tomatoes  26601\n",
      "2          Red Onions  19547\n",
      "3         Red Peppers  16284\n",
      "4   Mozzarella Cheese  10333\n",
      "5           Pepperoni  10300\n",
      "6             Spinach  10012\n",
      "7           Mushrooms   9624\n",
      "8             Chicken   8443\n",
      "9           Capocollo   6572\n",
      "10       Green Olives   6174\n",
      "11         Artichokes   5682\n",
      "12   Jalapeno Peppers   5643\n",
      "13      Green Peppers   5224\n",
      "14        Feta Cheese   4748\n"
     ]
    }
   ],
   "source": [
    "ingredient = (\n",
    "                df['pizza_ingredients']\n",
    "                .str.split(',')\n",
    "                .explode()\n",
    "                .str.strip()\n",
    "                .value_counts()\n",
    "                .reset_index()\n",
    "                .rename(columns={'index':'Count','pizza_ingredients':'Indegredients'})\n",
    "        \n",
    ")\n",
    "\n",
    "print(ingredient.head(15))"
   ]
  },
  {
   "cell_type": "markdown",
   "id": "bef44d39",
   "metadata": {},
   "source": []
  },
  {
   "cell_type": "markdown",
   "id": "9ce514bc",
   "metadata": {},
   "source": [
    "<h3 style='color:yellow; text-align:center'><b>Daily Trend</b></h3>"
   ]
  },
  {
   "cell_type": "markdown",
   "id": "a46fec4a",
   "metadata": {},
   "source": [
    "<h4 style='color:#FF1493;'><b>Total Orders</b></h4>"
   ]
  },
  {
   "cell_type": "code",
   "execution_count": 38,
   "id": "bd21e151",
   "metadata": {},
   "outputs": [
    {
     "data": {
      "image/png": "[encoded data removed]",
      "text/plain": [
       "<Figure size 800x500 with 1 Axes>"
      ]
     },
     "metadata": {},
     "output_type": "display_data"
    }
   ],
   "source": [
    "df['order_date'] = pd.to_datetime(df['order_date'],dayfirst=True)\n",
    "\n",
    "df['day_name'] = df['order_date'].dt.day_name()\n",
    "\n",
    "weekday_order = [\"Monday\",\"Tuesday\",\"Wednesday\",\"Thursday\",\"Friday\",\"Saturday\",\"Sunday\"]\n",
    "\n",
    "df[\"day_name\"] = pd.Categorical(df['day_name'],categories=weekday_order, ordered=True)\n",
    "\n",
    "orders_by_day = df.groupby('day_name',observed=False)['order_id'].nunique()\n",
    "\n",
    "ax = orders_by_day.plot(kind='bar',figsize=(8,5),color=\"green\", edgecolor='black')\n",
    "\n",
    "plt.title(\"Total Orders by Day of Week\")\n",
    "plt.xlabel(\"Day of Week\")\n",
    "plt.ylabel(\"No. of Orders\")\n",
    "plt.xticks(rotation=45)\n",
    "\n",
    "\n",
    "for i, val in enumerate(orders_by_day):\n",
    "    plt.text(i,val+20,str(val),ha='center',va='bottom',fontsize=9,fontweight='bold')\n",
    "\n",
    "plt.tight_layout()\n",
    "plt.show()"
   ]
  },
  {
   "cell_type": "markdown",
   "id": "59ad3303",
   "metadata": {},
   "source": [
    "<h4 style='color:orange;'><b>Total Revenue</b></h4>"
   ]
  },
  {
   "cell_type": "code",
   "execution_count": 40,
   "id": "d5ce520b",
   "metadata": {},
   "outputs": [
    {
     "data": {
      "image/png": "[encoded data removed]",
      "text/plain": [
       "<Figure size 800x500 with 1 Axes>"
      ]
     },
     "metadata": {},
     "output_type": "display_data"
    }
   ],
   "source": [
    "df['order_date'] = pd.to_datetime(df['order_date'],dayfirst=True)\n",
    "\n",
    "df['day_name'] = df['order_date'].dt.day_name()\n",
    "\n",
    "weekday_order = [\"Monday\",\"Tuesday\",\"Wednesday\",\"Thursday\",\"Friday\",\"Saturday\",\"Sunday\"]\n",
    "\n",
    "df[\"day_name\"] = pd.Categorical(df['day_name'],categories=weekday_order, ordered=True)\n",
    "\n",
    "orders_by_day = df.groupby('day_name',observed=False)['total_price'].sum()\n",
    "\n",
    "ax = orders_by_day.plot(kind='bar',figsize=(8,5),color=\"orange\", edgecolor='black')\n",
    "\n",
    "plt.title(\"Total Revenue by Day of Week\")\n",
    "plt.xlabel(\"Day of Week\")\n",
    "plt.ylabel(\"Total Revenue\")\n",
    "plt.xticks(rotation=45)\n",
    "\n",
    "\n",
    "for i, val in enumerate(orders_by_day):\n",
    "    plt.text(i,val+20,str(val),ha='center',va='bottom',fontsize=9,fontweight='bold')\n",
    "\n",
    "plt.tight_layout()\n",
    "plt.show()"
   ]
  },
  {
   "cell_type": "markdown",
   "id": "0ae8a7ab",
   "metadata": {},
   "source": [
    "<h4 style='color:yellow;'><b>Hourly Trend - Total Orders</b></h4>"
   ]
  },
  {
   "cell_type": "code",
   "execution_count": 45,
   "id": "57f0d692",
   "metadata": {},
   "outputs": [
    {
     "data": {
      "image/png": "[encoded data removed]",
      "text/plain": [
       "<Figure size 800x500 with 1 Axes>"
      ]
     },
     "metadata": {},
     "output_type": "display_data"
    }
   ],
   "source": [
    "df['order_time'] = pd.to_datetime(df['order_time'],format='%H:%M:%S')\n",
    "\n",
    "df['order_hour'] = df['order_time'].dt.hour\n",
    "\n",
    "orders_by_hour = df.groupby('order_hour',observed=False)['order_id'].nunique()\n",
    "\n",
    "ax = orders_by_hour.plot(kind='bar',figsize=(8,5),color=\"maroon\", edgecolor='black')\n",
    "\n",
    "plt.title(\"Total Orders by Hour of Day\")\n",
    "plt.xlabel(\"Hour of Day (24-Hour Format)\")\n",
    "plt.ylabel(\"No. of Orders\")\n",
    "plt.xticks(rotation=0)\n",
    "\n",
    "\n",
    "for i, val in enumerate(orders_by_hour):\n",
    "    plt.text(i,val+20,str(val),ha='center',va='bottom',fontsize=9,fontweight='bold')\n",
    "plt.show()"
   ]
  },
  {
   "cell_type": "markdown",
   "id": "00679431",
   "metadata": {},
   "source": []
  }
 ],
 "metadata": {
  "kernelspec": {
   "display_name": "Python 3",
   "language": "python",
   "name": "python3"
  },
  "language_info": {
   "codemirror_mode": {
    "name": "ipython",
    "version": 3
   },
   "file_extension": ".py",
   "mimetype": "text/x-python",
   "name": "python",
   "nbconvert_exporter": "python",
   "pygments_lexer": "ipython3",
   "version": "3.10.12"
  }
 },
 "nbformat": 4,
 "nbformat_minor": 5
}
